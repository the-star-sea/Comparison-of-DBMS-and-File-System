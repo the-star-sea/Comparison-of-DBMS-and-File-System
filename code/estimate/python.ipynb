{
 "cells": [
  {
   "cell_type": "code",
   "execution_count": 1,
   "id": "excessive-separate",
   "metadata": {},
   "outputs": [
    {
     "name": "stdout",
     "output_type": "stream",
     "text": [
      "Time Cost 3.9067494869232178 s\n"
     ]
    }
   ],
   "source": [
    "\n",
    "import time\n",
    "import pandas as pd\n",
    "path=\"G:/resources/数据库/pro1/release of project 1/data/student.csv\"\n",
    "time_start=time.time()\n",
    "df0=pd.read_csv(path)\n",
    "time_end=time.time()\n",
    "print('Time Cost',time_end-time_start,'s')"
   ]
  },
  {
   "cell_type": "code",
   "execution_count": 2,
   "id": "innocent-mystery",
   "metadata": {},
   "outputs": [],
   "source": [
    "df=df0#复原"
   ]
  },
  {
   "cell_type": "code",
   "execution_count": 3,
   "id": "behind-quantum",
   "metadata": {},
   "outputs": [],
   "source": [
    "def search_(query,find):#查询\n",
    "    return df[df[find]==query]\n",
    "def insert_(ids,name,gender,college):#插入\n",
    "    global df\n",
    "    k=pd.DataFrame([[ids,name,gender,college]],columns=['id','name','gender','college'])\n",
    "    df=pd.concat([df,k])\n",
    "    \n",
    "def delete_(query,find):#删除\n",
    "    global df\n",
    "    df=df[df[find]!=query]\n",
    "      \n",
    "    \n",
    "def update_(olds,news,find):#更新\n",
    "    global df\n",
    "    if find=='id':\n",
    "        df['id']=df.id.apply(lambda x:x if x!=olds else news)\n",
    "    elif find=='name':\n",
    "        df['name']=df.name.apply(lambda x:x if x!=olds else news)\n",
    "    elif find=='gender':\n",
    "        df['gender']=df.gender.apply(lambda x:x if x!=olds else news)\n",
    "    elif find=='college':\n",
    "        df['college']=df.college.apply(lambda x:x if x!=olds else news)"
   ]
  },
  {
   "cell_type": "code",
   "execution_count": 4,
   "id": "dedicated-reply",
   "metadata": {},
   "outputs": [
    {
     "name": "stdout",
     "output_type": "stream",
     "text": [
      "Time Cost 0.023978233337402344 s\n"
     ]
    }
   ],
   "source": [
    "time_start=time.time()\n",
    "search_('计药压','id')\n",
    "time_end=time.time()\n",
    "print('Time Cost',time_end-time_start,'s')"
   ]
  },
  {
   "cell_type": "code",
   "execution_count": 5,
   "id": "japanese-atlas",
   "metadata": {},
   "outputs": [
    {
     "name": "stdout",
     "output_type": "stream",
     "text": [
      "Time Cost 0.4438619613647461 s\n"
     ]
    }
   ],
   "source": [
    "time_start=time.time()\n",
    "search_('M','gender')\n",
    "time_end=time.time()\n",
    "print('Time Cost',time_end-time_start,'s')"
   ]
  },
  {
   "cell_type": "code",
   "execution_count": 6,
   "id": "individual-buddy",
   "metadata": {},
   "outputs": [
    {
     "name": "stdout",
     "output_type": "stream",
     "text": [
      "Time Cost 0.24733710289001465 s\n",
      "Empty DataFrame\n",
      "Columns: [id, name, gender, college]\n",
      "Index: []\n"
     ]
    }
   ],
   "source": [
    "time_start=time.time()\n",
    "insert_('23333333','于仕琪','M','计算机系')\n",
    "time_end=time.time()\n",
    "print('Time Cost',time_end-time_start,'s')\n",
    "\n",
    "print(search_('于仕琪','id'))"
   ]
  },
  {
   "cell_type": "code",
   "execution_count": 7,
   "id": "shared-freeware",
   "metadata": {},
   "outputs": [
    {
     "name": "stdout",
     "output_type": "stream",
     "text": [
      "Time Cost 1.059319019317627 s\n",
      "         id name gender college\n",
      "0  23333333  鱼噬蛴      M    计算机系\n"
     ]
    }
   ],
   "source": [
    "time_start=time.time()\n",
    "update_('于仕琪','鱼噬蛴','name')\n",
    "time_end=time.time()\n",
    "print('Time Cost',time_end-time_start,'s')\n",
    "\n",
    "print(search_('鱼噬蛴','name'))"
   ]
  },
  {
   "cell_type": "code",
   "execution_count": 8,
   "id": "biblical-chapel",
   "metadata": {},
   "outputs": [
    {
     "name": "stdout",
     "output_type": "stream",
     "text": [
      "Time Cost 0.6439661979675293 s\n"
     ]
    }
   ],
   "source": [
    "time_start=time.time()\n",
    "delete_('10000001','id')\n",
    "time_end=time.time()\n",
    "print('Time Cost',time_end-time_start,'s')"
   ]
  },
  {
   "cell_type": "code",
   "execution_count": 9,
   "id": "guilty-penny",
   "metadata": {},
   "outputs": [],
   "source": [
    "path1=\"G:/resources/数据库/pro1/ConsoleApplication1pro/student.csv\""
   ]
  },
  {
   "cell_type": "code",
   "execution_count": 10,
   "id": "caring-relations",
   "metadata": {},
   "outputs": [
    {
     "name": "stdout",
     "output_type": "stream",
     "text": [
      "Time Cost 6.976192235946655 s\n"
     ]
    }
   ],
   "source": [
    "time_start=time.time()\n",
    "df.to_csv(path1,encoding='utf-8',index=False)\n",
    "time_end=time.time()\n",
    "print('Time Cost',time_end-time_start,'s')"
   ]
  }
 ],
 "metadata": {
  "kernelspec": {
   "display_name": "te1",
   "language": "python",
   "name": "te1"
  },
  "language_info": {
   "codemirror_mode": {
    "name": "ipython",
    "version": 3
   },
   "file_extension": ".py",
   "mimetype": "text/x-python",
   "name": "python",
   "nbconvert_exporter": "python",
   "pygments_lexer": "ipython3",
   "version": "3.8.5"
  }
 },
 "nbformat": 4,
 "nbformat_minor": 5
}
